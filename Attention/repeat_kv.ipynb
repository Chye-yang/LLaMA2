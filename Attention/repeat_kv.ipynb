{
 "cells": [
  {
   "cell_type": "markdown",
   "id": "acacb876",
   "metadata": {
    "vscode": {
     "languageId": "plaintext"
    }
   },
   "source": [
    "![描述文本](simp-mha.png)\n"
   ]
  },
  {
   "cell_type": "code",
   "execution_count": null,
   "id": "7c501fed",
   "metadata": {
    "vscode": {
     "languageId": "plaintext"
    }
   },
   "outputs": [],
   "source": [
    "For each token in a sequence, multi-head attention requires the creation of 3 vectors.\n",
    "对于序列中的每个标记，多头注意力需要创建 3 个向量。\n",
    "\n",
    "A query vector, Q, representing the information that the token is “seeking.” For instance, the query vector for a noun might represent a search for adjectives that describe it.\n",
    "查询向量 Q，表示令牌正在“查找”的信息。例如，名词的查询向量可能表示对描述它的形容词的搜索。\n",
    "A key vector, K, representing the information that the token contains. Alignment scores, representing the relevance of each token’s key vector to the query vector of each of the other tokens, are used to compute attention weights.\n",
    "一个键向量 K，表示 Token 包含的信息。对齐分数（表示每个标记的关键向量与其他每个标记的查询向量的相关性）用于计算注意力权重。\n",
    "A value vector, V, representing the contextual information that will be updated by the attention-weighted contributions from the key vectors of other tokens.\n",
    "一个值向量 V，表示上下文信息，该信息将由来自其他标记的关键向量的注意力加权贡献进行更新。"
   ]
  }
 ],
 "metadata": {
  "language_info": {
   "name": "python"
  }
 },
 "nbformat": 4,
 "nbformat_minor": 5
}
