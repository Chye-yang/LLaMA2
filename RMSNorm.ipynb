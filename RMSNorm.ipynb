{
 "cells": [
  {
   "cell_type": "markdown",
   "id": "71f0b50a",
   "metadata": {
    "vscode": {
     "languageId": "plaintext"
    }
   },
   "source": [
    "$$\n",
    "\\text{RMSNorm}(x) = \\frac{x}{\\sqrt{\\frac{1}{n} \\sum_{i=1}^{n} x_i^2 + \\epsilon}} \\cdot \\gamma\n",
    "$$\n"
   ]
  }
 ],
 "metadata": {
  "language_info": {
   "name": "python"
  }
 },
 "nbformat": 4,
 "nbformat_minor": 5
}
